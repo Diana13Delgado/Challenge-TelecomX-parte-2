{
  "nbformat": 4,
  "nbformat_minor": 0,
  "metadata": {
    "colab": {
      "provenance": [],
      "authorship_tag": "ABX9TyNTcsb4CJDEwX82a1LE34ZJ",
      "include_colab_link": true
    },
    "kernelspec": {
      "name": "python3",
      "display_name": "Python 3"
    },
    "language_info": {
      "name": "python"
    }
  },
  "cells": [
    {
      "cell_type": "markdown",
      "metadata": {
        "id": "view-in-github",
        "colab_type": "text"
      },
      "source": [
        "<a href=\"https://colab.research.google.com/github/Diana13Delgado/Challenge-TelecomX-parte-2/blob/main/Challenge_TelecomX_parte_2.ipynb\" target=\"_parent\"><img src=\"https://colab.research.google.com/assets/colab-badge.svg\" alt=\"Open In Colab\"/></a>"
      ]
    },
    {
      "cell_type": "markdown",
      "source": [
        "#**🛠️ Preparación de los Datos**"
      ],
      "metadata": {
        "id": "cAzYXRtGWRAn"
      }
    },
    {
      "cell_type": "markdown",
      "source": [
        "##**Extracción del Archivo Tratado**"
      ],
      "metadata": {
        "id": "aN_zkxWEVjL5"
      }
    },
    {
      "cell_type": "code",
      "execution_count": 2,
      "metadata": {
        "id": "aOXYzE2_ihBp"
      },
      "outputs": [],
      "source": [
        "import pandas as pd"
      ]
    },
    {
      "cell_type": "code",
      "source": [
        "datos = pd.read_csv('/content/df_limpio.csv')\n",
        "datos.head()"
      ],
      "metadata": {
        "id": "VaO_9jQbVznE",
        "outputId": "9a820c1d-ace9-48e4-97cf-6edbdb77a019",
        "colab": {
          "base_uri": "https://localhost:8080/",
          "height": 290
        }
      },
      "execution_count": 3,
      "outputs": [
        {
          "output_type": "execute_result",
          "data": {
            "text/plain": [
              "   customerID Churn customer.gender  customer.SeniorCitizen customer.Partner  \\\n",
              "0  0002-ORFBO    No          Female                       0              Yes   \n",
              "1  0003-MKNFE    No            Male                       0               No   \n",
              "2  0004-TLHLJ   Yes            Male                       0               No   \n",
              "3  0011-IGKFF   Yes            Male                       1              Yes   \n",
              "4  0013-EXCHZ   Yes          Female                       1              Yes   \n",
              "\n",
              "  customer.Dependents  customer.tenure phone.PhoneService phone.MultipleLines  \\\n",
              "0                 Yes                9                Yes                  No   \n",
              "1                  No                9                Yes                 Yes   \n",
              "2                  No                4                Yes                  No   \n",
              "3                  No               13                Yes                  No   \n",
              "4                  No                3                Yes                  No   \n",
              "\n",
              "  internet.InternetService  ... internet.DeviceProtection  \\\n",
              "0                      DSL  ...                        No   \n",
              "1                      DSL  ...                        No   \n",
              "2              Fiber optic  ...                       Yes   \n",
              "3              Fiber optic  ...                       Yes   \n",
              "4              Fiber optic  ...                        No   \n",
              "\n",
              "  internet.TechSupport internet.StreamingTV internet.StreamingMovies  \\\n",
              "0                  Yes                  Yes                       No   \n",
              "1                   No                   No                      Yes   \n",
              "2                   No                   No                       No   \n",
              "3                   No                  Yes                      Yes   \n",
              "4                  Yes                  Yes                       No   \n",
              "\n",
              "  account.Contract account.PaperlessBilling account.PaymentMethod  \\\n",
              "0         One year                      Yes          Mailed check   \n",
              "1   Month-to-month                       No          Mailed check   \n",
              "2   Month-to-month                      Yes      Electronic check   \n",
              "3   Month-to-month                      Yes      Electronic check   \n",
              "4   Month-to-month                      Yes          Mailed check   \n",
              "\n",
              "  account.Charges.Monthly account.Charges.Total  cuentas_diarias  \n",
              "0                    65.6                593.30         2.186667  \n",
              "1                    59.9                542.40         1.996667  \n",
              "2                    73.9                280.85         2.463333  \n",
              "3                    98.0               1237.85         3.266667  \n",
              "4                    83.9                267.40         2.796667  \n",
              "\n",
              "[5 rows x 22 columns]"
            ],
            "text/html": [
              "\n",
              "  <div id=\"df-be8177e2-cea1-44bd-95c4-a59233966fb5\" class=\"colab-df-container\">\n",
              "    <div>\n",
              "<style scoped>\n",
              "    .dataframe tbody tr th:only-of-type {\n",
              "        vertical-align: middle;\n",
              "    }\n",
              "\n",
              "    .dataframe tbody tr th {\n",
              "        vertical-align: top;\n",
              "    }\n",
              "\n",
              "    .dataframe thead th {\n",
              "        text-align: right;\n",
              "    }\n",
              "</style>\n",
              "<table border=\"1\" class=\"dataframe\">\n",
              "  <thead>\n",
              "    <tr style=\"text-align: right;\">\n",
              "      <th></th>\n",
              "      <th>customerID</th>\n",
              "      <th>Churn</th>\n",
              "      <th>customer.gender</th>\n",
              "      <th>customer.SeniorCitizen</th>\n",
              "      <th>customer.Partner</th>\n",
              "      <th>customer.Dependents</th>\n",
              "      <th>customer.tenure</th>\n",
              "      <th>phone.PhoneService</th>\n",
              "      <th>phone.MultipleLines</th>\n",
              "      <th>internet.InternetService</th>\n",
              "      <th>...</th>\n",
              "      <th>internet.DeviceProtection</th>\n",
              "      <th>internet.TechSupport</th>\n",
              "      <th>internet.StreamingTV</th>\n",
              "      <th>internet.StreamingMovies</th>\n",
              "      <th>account.Contract</th>\n",
              "      <th>account.PaperlessBilling</th>\n",
              "      <th>account.PaymentMethod</th>\n",
              "      <th>account.Charges.Monthly</th>\n",
              "      <th>account.Charges.Total</th>\n",
              "      <th>cuentas_diarias</th>\n",
              "    </tr>\n",
              "  </thead>\n",
              "  <tbody>\n",
              "    <tr>\n",
              "      <th>0</th>\n",
              "      <td>0002-ORFBO</td>\n",
              "      <td>No</td>\n",
              "      <td>Female</td>\n",
              "      <td>0</td>\n",
              "      <td>Yes</td>\n",
              "      <td>Yes</td>\n",
              "      <td>9</td>\n",
              "      <td>Yes</td>\n",
              "      <td>No</td>\n",
              "      <td>DSL</td>\n",
              "      <td>...</td>\n",
              "      <td>No</td>\n",
              "      <td>Yes</td>\n",
              "      <td>Yes</td>\n",
              "      <td>No</td>\n",
              "      <td>One year</td>\n",
              "      <td>Yes</td>\n",
              "      <td>Mailed check</td>\n",
              "      <td>65.6</td>\n",
              "      <td>593.30</td>\n",
              "      <td>2.186667</td>\n",
              "    </tr>\n",
              "    <tr>\n",
              "      <th>1</th>\n",
              "      <td>0003-MKNFE</td>\n",
              "      <td>No</td>\n",
              "      <td>Male</td>\n",
              "      <td>0</td>\n",
              "      <td>No</td>\n",
              "      <td>No</td>\n",
              "      <td>9</td>\n",
              "      <td>Yes</td>\n",
              "      <td>Yes</td>\n",
              "      <td>DSL</td>\n",
              "      <td>...</td>\n",
              "      <td>No</td>\n",
              "      <td>No</td>\n",
              "      <td>No</td>\n",
              "      <td>Yes</td>\n",
              "      <td>Month-to-month</td>\n",
              "      <td>No</td>\n",
              "      <td>Mailed check</td>\n",
              "      <td>59.9</td>\n",
              "      <td>542.40</td>\n",
              "      <td>1.996667</td>\n",
              "    </tr>\n",
              "    <tr>\n",
              "      <th>2</th>\n",
              "      <td>0004-TLHLJ</td>\n",
              "      <td>Yes</td>\n",
              "      <td>Male</td>\n",
              "      <td>0</td>\n",
              "      <td>No</td>\n",
              "      <td>No</td>\n",
              "      <td>4</td>\n",
              "      <td>Yes</td>\n",
              "      <td>No</td>\n",
              "      <td>Fiber optic</td>\n",
              "      <td>...</td>\n",
              "      <td>Yes</td>\n",
              "      <td>No</td>\n",
              "      <td>No</td>\n",
              "      <td>No</td>\n",
              "      <td>Month-to-month</td>\n",
              "      <td>Yes</td>\n",
              "      <td>Electronic check</td>\n",
              "      <td>73.9</td>\n",
              "      <td>280.85</td>\n",
              "      <td>2.463333</td>\n",
              "    </tr>\n",
              "    <tr>\n",
              "      <th>3</th>\n",
              "      <td>0011-IGKFF</td>\n",
              "      <td>Yes</td>\n",
              "      <td>Male</td>\n",
              "      <td>1</td>\n",
              "      <td>Yes</td>\n",
              "      <td>No</td>\n",
              "      <td>13</td>\n",
              "      <td>Yes</td>\n",
              "      <td>No</td>\n",
              "      <td>Fiber optic</td>\n",
              "      <td>...</td>\n",
              "      <td>Yes</td>\n",
              "      <td>No</td>\n",
              "      <td>Yes</td>\n",
              "      <td>Yes</td>\n",
              "      <td>Month-to-month</td>\n",
              "      <td>Yes</td>\n",
              "      <td>Electronic check</td>\n",
              "      <td>98.0</td>\n",
              "      <td>1237.85</td>\n",
              "      <td>3.266667</td>\n",
              "    </tr>\n",
              "    <tr>\n",
              "      <th>4</th>\n",
              "      <td>0013-EXCHZ</td>\n",
              "      <td>Yes</td>\n",
              "      <td>Female</td>\n",
              "      <td>1</td>\n",
              "      <td>Yes</td>\n",
              "      <td>No</td>\n",
              "      <td>3</td>\n",
              "      <td>Yes</td>\n",
              "      <td>No</td>\n",
              "      <td>Fiber optic</td>\n",
              "      <td>...</td>\n",
              "      <td>No</td>\n",
              "      <td>Yes</td>\n",
              "      <td>Yes</td>\n",
              "      <td>No</td>\n",
              "      <td>Month-to-month</td>\n",
              "      <td>Yes</td>\n",
              "      <td>Mailed check</td>\n",
              "      <td>83.9</td>\n",
              "      <td>267.40</td>\n",
              "      <td>2.796667</td>\n",
              "    </tr>\n",
              "  </tbody>\n",
              "</table>\n",
              "<p>5 rows × 22 columns</p>\n",
              "</div>\n",
              "    <div class=\"colab-df-buttons\">\n",
              "\n",
              "  <div class=\"colab-df-container\">\n",
              "    <button class=\"colab-df-convert\" onclick=\"convertToInteractive('df-be8177e2-cea1-44bd-95c4-a59233966fb5')\"\n",
              "            title=\"Convert this dataframe to an interactive table.\"\n",
              "            style=\"display:none;\">\n",
              "\n",
              "  <svg xmlns=\"http://www.w3.org/2000/svg\" height=\"24px\" viewBox=\"0 -960 960 960\">\n",
              "    <path d=\"M120-120v-720h720v720H120Zm60-500h600v-160H180v160Zm220 220h160v-160H400v160Zm0 220h160v-160H400v160ZM180-400h160v-160H180v160Zm440 0h160v-160H620v160ZM180-180h160v-160H180v160Zm440 0h160v-160H620v160Z\"/>\n",
              "  </svg>\n",
              "    </button>\n",
              "\n",
              "  <style>\n",
              "    .colab-df-container {\n",
              "      display:flex;\n",
              "      gap: 12px;\n",
              "    }\n",
              "\n",
              "    .colab-df-convert {\n",
              "      background-color: #E8F0FE;\n",
              "      border: none;\n",
              "      border-radius: 50%;\n",
              "      cursor: pointer;\n",
              "      display: none;\n",
              "      fill: #1967D2;\n",
              "      height: 32px;\n",
              "      padding: 0 0 0 0;\n",
              "      width: 32px;\n",
              "    }\n",
              "\n",
              "    .colab-df-convert:hover {\n",
              "      background-color: #E2EBFA;\n",
              "      box-shadow: 0px 1px 2px rgba(60, 64, 67, 0.3), 0px 1px 3px 1px rgba(60, 64, 67, 0.15);\n",
              "      fill: #174EA6;\n",
              "    }\n",
              "\n",
              "    .colab-df-buttons div {\n",
              "      margin-bottom: 4px;\n",
              "    }\n",
              "\n",
              "    [theme=dark] .colab-df-convert {\n",
              "      background-color: #3B4455;\n",
              "      fill: #D2E3FC;\n",
              "    }\n",
              "\n",
              "    [theme=dark] .colab-df-convert:hover {\n",
              "      background-color: #434B5C;\n",
              "      box-shadow: 0px 1px 3px 1px rgba(0, 0, 0, 0.15);\n",
              "      filter: drop-shadow(0px 1px 2px rgba(0, 0, 0, 0.3));\n",
              "      fill: #FFFFFF;\n",
              "    }\n",
              "  </style>\n",
              "\n",
              "    <script>\n",
              "      const buttonEl =\n",
              "        document.querySelector('#df-be8177e2-cea1-44bd-95c4-a59233966fb5 button.colab-df-convert');\n",
              "      buttonEl.style.display =\n",
              "        google.colab.kernel.accessAllowed ? 'block' : 'none';\n",
              "\n",
              "      async function convertToInteractive(key) {\n",
              "        const element = document.querySelector('#df-be8177e2-cea1-44bd-95c4-a59233966fb5');\n",
              "        const dataTable =\n",
              "          await google.colab.kernel.invokeFunction('convertToInteractive',\n",
              "                                                    [key], {});\n",
              "        if (!dataTable) return;\n",
              "\n",
              "        const docLinkHtml = 'Like what you see? Visit the ' +\n",
              "          '<a target=\"_blank\" href=https://colab.research.google.com/notebooks/data_table.ipynb>data table notebook</a>'\n",
              "          + ' to learn more about interactive tables.';\n",
              "        element.innerHTML = '';\n",
              "        dataTable['output_type'] = 'display_data';\n",
              "        await google.colab.output.renderOutput(dataTable, element);\n",
              "        const docLink = document.createElement('div');\n",
              "        docLink.innerHTML = docLinkHtml;\n",
              "        element.appendChild(docLink);\n",
              "      }\n",
              "    </script>\n",
              "  </div>\n",
              "\n",
              "\n",
              "    <div id=\"df-2daf15d1-7eae-4463-9faf-392d283acc82\">\n",
              "      <button class=\"colab-df-quickchart\" onclick=\"quickchart('df-2daf15d1-7eae-4463-9faf-392d283acc82')\"\n",
              "                title=\"Suggest charts\"\n",
              "                style=\"display:none;\">\n",
              "\n",
              "<svg xmlns=\"http://www.w3.org/2000/svg\" height=\"24px\"viewBox=\"0 0 24 24\"\n",
              "     width=\"24px\">\n",
              "    <g>\n",
              "        <path d=\"M19 3H5c-1.1 0-2 .9-2 2v14c0 1.1.9 2 2 2h14c1.1 0 2-.9 2-2V5c0-1.1-.9-2-2-2zM9 17H7v-7h2v7zm4 0h-2V7h2v10zm4 0h-2v-4h2v4z\"/>\n",
              "    </g>\n",
              "</svg>\n",
              "      </button>\n",
              "\n",
              "<style>\n",
              "  .colab-df-quickchart {\n",
              "      --bg-color: #E8F0FE;\n",
              "      --fill-color: #1967D2;\n",
              "      --hover-bg-color: #E2EBFA;\n",
              "      --hover-fill-color: #174EA6;\n",
              "      --disabled-fill-color: #AAA;\n",
              "      --disabled-bg-color: #DDD;\n",
              "  }\n",
              "\n",
              "  [theme=dark] .colab-df-quickchart {\n",
              "      --bg-color: #3B4455;\n",
              "      --fill-color: #D2E3FC;\n",
              "      --hover-bg-color: #434B5C;\n",
              "      --hover-fill-color: #FFFFFF;\n",
              "      --disabled-bg-color: #3B4455;\n",
              "      --disabled-fill-color: #666;\n",
              "  }\n",
              "\n",
              "  .colab-df-quickchart {\n",
              "    background-color: var(--bg-color);\n",
              "    border: none;\n",
              "    border-radius: 50%;\n",
              "    cursor: pointer;\n",
              "    display: none;\n",
              "    fill: var(--fill-color);\n",
              "    height: 32px;\n",
              "    padding: 0;\n",
              "    width: 32px;\n",
              "  }\n",
              "\n",
              "  .colab-df-quickchart:hover {\n",
              "    background-color: var(--hover-bg-color);\n",
              "    box-shadow: 0 1px 2px rgba(60, 64, 67, 0.3), 0 1px 3px 1px rgba(60, 64, 67, 0.15);\n",
              "    fill: var(--button-hover-fill-color);\n",
              "  }\n",
              "\n",
              "  .colab-df-quickchart-complete:disabled,\n",
              "  .colab-df-quickchart-complete:disabled:hover {\n",
              "    background-color: var(--disabled-bg-color);\n",
              "    fill: var(--disabled-fill-color);\n",
              "    box-shadow: none;\n",
              "  }\n",
              "\n",
              "  .colab-df-spinner {\n",
              "    border: 2px solid var(--fill-color);\n",
              "    border-color: transparent;\n",
              "    border-bottom-color: var(--fill-color);\n",
              "    animation:\n",
              "      spin 1s steps(1) infinite;\n",
              "  }\n",
              "\n",
              "  @keyframes spin {\n",
              "    0% {\n",
              "      border-color: transparent;\n",
              "      border-bottom-color: var(--fill-color);\n",
              "      border-left-color: var(--fill-color);\n",
              "    }\n",
              "    20% {\n",
              "      border-color: transparent;\n",
              "      border-left-color: var(--fill-color);\n",
              "      border-top-color: var(--fill-color);\n",
              "    }\n",
              "    30% {\n",
              "      border-color: transparent;\n",
              "      border-left-color: var(--fill-color);\n",
              "      border-top-color: var(--fill-color);\n",
              "      border-right-color: var(--fill-color);\n",
              "    }\n",
              "    40% {\n",
              "      border-color: transparent;\n",
              "      border-right-color: var(--fill-color);\n",
              "      border-top-color: var(--fill-color);\n",
              "    }\n",
              "    60% {\n",
              "      border-color: transparent;\n",
              "      border-right-color: var(--fill-color);\n",
              "    }\n",
              "    80% {\n",
              "      border-color: transparent;\n",
              "      border-right-color: var(--fill-color);\n",
              "      border-bottom-color: var(--fill-color);\n",
              "    }\n",
              "    90% {\n",
              "      border-color: transparent;\n",
              "      border-bottom-color: var(--fill-color);\n",
              "    }\n",
              "  }\n",
              "</style>\n",
              "\n",
              "      <script>\n",
              "        async function quickchart(key) {\n",
              "          const quickchartButtonEl =\n",
              "            document.querySelector('#' + key + ' button');\n",
              "          quickchartButtonEl.disabled = true;  // To prevent multiple clicks.\n",
              "          quickchartButtonEl.classList.add('colab-df-spinner');\n",
              "          try {\n",
              "            const charts = await google.colab.kernel.invokeFunction(\n",
              "                'suggestCharts', [key], {});\n",
              "          } catch (error) {\n",
              "            console.error('Error during call to suggestCharts:', error);\n",
              "          }\n",
              "          quickchartButtonEl.classList.remove('colab-df-spinner');\n",
              "          quickchartButtonEl.classList.add('colab-df-quickchart-complete');\n",
              "        }\n",
              "        (() => {\n",
              "          let quickchartButtonEl =\n",
              "            document.querySelector('#df-2daf15d1-7eae-4463-9faf-392d283acc82 button');\n",
              "          quickchartButtonEl.style.display =\n",
              "            google.colab.kernel.accessAllowed ? 'block' : 'none';\n",
              "        })();\n",
              "      </script>\n",
              "    </div>\n",
              "\n",
              "    </div>\n",
              "  </div>\n"
            ],
            "application/vnd.google.colaboratory.intrinsic+json": {
              "type": "dataframe",
              "variable_name": "datos"
            }
          },
          "metadata": {},
          "execution_count": 3
        }
      ]
    },
    {
      "cell_type": "markdown",
      "source": [
        "##**Eliminación de Columnas Irrelevantes**"
      ],
      "metadata": {
        "id": "UaH7FrDtWFTX"
      }
    },
    {
      "cell_type": "code",
      "source": [
        "#Eliminar duplicados (si existen)\n",
        "datos = datos.drop_duplicates()"
      ],
      "metadata": {
        "id": "xKr_rwahVzqY"
      },
      "execution_count": 22,
      "outputs": []
    },
    {
      "cell_type": "code",
      "source": [
        "#Identificar valores nulos\n",
        "print(datos.isnull().sum())"
      ],
      "metadata": {
        "id": "IQdoWCSfVzuQ",
        "outputId": "729bf595-bb97-4855-857d-b079f2d9bb27",
        "colab": {
          "base_uri": "https://localhost:8080/"
        }
      },
      "execution_count": 23,
      "outputs": [
        {
          "output_type": "stream",
          "name": "stdout",
          "text": [
            "customerID                   0\n",
            "Churn                        0\n",
            "customer.gender              0\n",
            "customer.SeniorCitizen       0\n",
            "customer.Partner             0\n",
            "customer.Dependents          0\n",
            "customer.tenure              0\n",
            "phone.PhoneService           0\n",
            "phone.MultipleLines          0\n",
            "internet.InternetService     0\n",
            "internet.OnlineSecurity      0\n",
            "internet.OnlineBackup        0\n",
            "internet.DeviceProtection    0\n",
            "internet.TechSupport         0\n",
            "internet.StreamingTV         0\n",
            "internet.StreamingMovies     0\n",
            "account.Contract             0\n",
            "account.PaperlessBilling     0\n",
            "account.PaymentMethod        0\n",
            "account.Charges.Monthly      0\n",
            "account.Charges.Total        0\n",
            "cuentas_diarias              0\n",
            "dtype: int64\n"
          ]
        }
      ]
    },
    {
      "cell_type": "code",
      "source": [
        "# Rellenar nulos en \"account.Charges.Total\" con la media\n",
        "datos[\"account.Charges.Total\"] = datos[\"account.Charges.Total\"].fillna(datos[\"account.Charges.Total\"].mean())"
      ],
      "metadata": {
        "id": "FO4Qb9poVzx4"
      },
      "execution_count": 24,
      "outputs": []
    },
    {
      "cell_type": "code",
      "source": [
        "#Eliminar columnas irrelevantes\n",
        "datos = datos.drop(columns=[\"customerID\"])"
      ],
      "metadata": {
        "id": "6Am_rz3-Vz1p"
      },
      "execution_count": 25,
      "outputs": []
    },
    {
      "cell_type": "code",
      "source": [
        "#Quitar espacios en blanco en variables tipo texto\n",
        "datos = datos.applymap(lambda x: x.strip() if isinstance(x, str) else x)"
      ],
      "metadata": {
        "id": "XOYQdHtaVz5g",
        "outputId": "cb1d675a-f5a4-41ee-f4b6-b216446f810d",
        "colab": {
          "base_uri": "https://localhost:8080/"
        }
      },
      "execution_count": 26,
      "outputs": [
        {
          "output_type": "stream",
          "name": "stderr",
          "text": [
            "/tmp/ipython-input-793279701.py:2: FutureWarning: DataFrame.applymap has been deprecated. Use DataFrame.map instead.\n",
            "  datos = datos.applymap(lambda x: x.strip() if isinstance(x, str) else x)\n"
          ]
        }
      ]
    },
    {
      "cell_type": "code",
      "source": [
        "#Resetear índice después de limpiar\n",
        "datos = datos.reset_index(drop=True)"
      ],
      "metadata": {
        "id": "weIGZIO6Vz9G"
      },
      "execution_count": 27,
      "outputs": []
    },
    {
      "cell_type": "code",
      "source": [
        "#Revisar que ya no haya nulos\n",
        "print(datos.isnull().sum())"
      ],
      "metadata": {
        "id": "vc9dAhOHV0Ao",
        "outputId": "fe3cade6-6c04-4b7f-fa9e-5dfafe4842ec",
        "colab": {
          "base_uri": "https://localhost:8080/"
        }
      },
      "execution_count": 28,
      "outputs": [
        {
          "output_type": "stream",
          "name": "stdout",
          "text": [
            "Churn                        0\n",
            "customer.gender              0\n",
            "customer.SeniorCitizen       0\n",
            "customer.Partner             0\n",
            "customer.Dependents          0\n",
            "customer.tenure              0\n",
            "phone.PhoneService           0\n",
            "phone.MultipleLines          0\n",
            "internet.InternetService     0\n",
            "internet.OnlineSecurity      0\n",
            "internet.OnlineBackup        0\n",
            "internet.DeviceProtection    0\n",
            "internet.TechSupport         0\n",
            "internet.StreamingTV         0\n",
            "internet.StreamingMovies     0\n",
            "account.Contract             0\n",
            "account.PaperlessBilling     0\n",
            "account.PaymentMethod        0\n",
            "account.Charges.Monthly      0\n",
            "account.Charges.Total        0\n",
            "cuentas_diarias              0\n",
            "dtype: int64\n"
          ]
        }
      ]
    },
    {
      "cell_type": "markdown",
      "source": [
        "##**Encoding**"
      ],
      "metadata": {
        "id": "pvnfSXp9ZcKc"
      }
    },
    {
      "cell_type": "code",
      "source": [
        "# Reemplazar \"No internet service\" por \"No\" en las siguientes columnas:\n",
        "for col in [\n",
        "    \"internet.OnlineSecurity\",\n",
        "    \"internet.OnlineBackup\",\n",
        "    \"internet.DeviceProtection\",\n",
        "    \"internet.TechSupport\",\n",
        "    \"internet.StreamingTV\",\n",
        "    \"internet.StreamingMovies\"\n",
        "]:\n",
        "    datos[col] = datos[col].replace(\"No internet service\", \"No\")\n",
        "    print(f\"{col}: {datos[col].unique()}\")"
      ],
      "metadata": {
        "id": "9c-JW9lAV0Ec",
        "outputId": "294391b4-c6e8-4235-d79a-5302b41233db",
        "colab": {
          "base_uri": "https://localhost:8080/"
        }
      },
      "execution_count": 30,
      "outputs": [
        {
          "output_type": "stream",
          "name": "stdout",
          "text": [
            "internet.OnlineSecurity: ['No' 'Yes']\n",
            "internet.OnlineBackup: ['Yes' 'No']\n",
            "internet.DeviceProtection: ['No' 'Yes']\n",
            "internet.TechSupport: ['Yes' 'No']\n",
            "internet.StreamingTV: ['Yes' 'No']\n",
            "internet.StreamingMovies: ['No' 'Yes']\n"
          ]
        }
      ]
    },
    {
      "cell_type": "code",
      "source": [
        "# Aplicar oneHotEncoding a todas las columnas categóricas\n",
        "datos_encoded = pd.get_dummies(datos, drop_first=True)"
      ],
      "metadata": {
        "id": "DU_66Y0nV0H8"
      },
      "execution_count": 31,
      "outputs": []
    },
    {
      "cell_type": "code",
      "source": [
        "# Revisar el nuevo shape del dataframe\n",
        "print(\"Shape original:\", datos.shape)\n",
        "print(\"Shape transformado:\", datos_encoded.shape)"
      ],
      "metadata": {
        "id": "Oo9c_Emoa0dK",
        "outputId": "562ed775-8b1f-4e47-8bc8-89fa1c2d09e7",
        "colab": {
          "base_uri": "https://localhost:8080/"
        }
      },
      "execution_count": 32,
      "outputs": [
        {
          "output_type": "stream",
          "name": "stdout",
          "text": [
            "Shape original: (7043, 21)\n",
            "Shape transformado: (7043, 26)\n"
          ]
        }
      ]
    },
    {
      "cell_type": "code",
      "source": [
        "# Ver primeras filas\n",
        "print(datos_encoded.head())"
      ],
      "metadata": {
        "id": "z4vzJfmsa0gQ",
        "outputId": "dc4e5645-77e0-4a33-d35a-24c3f30c0327",
        "colab": {
          "base_uri": "https://localhost:8080/"
        }
      },
      "execution_count": 33,
      "outputs": [
        {
          "output_type": "stream",
          "name": "stdout",
          "text": [
            "   customer.SeniorCitizen  customer.tenure  account.Charges.Monthly  \\\n",
            "0                       0                9                     65.6   \n",
            "1                       0                9                     59.9   \n",
            "2                       0                4                     73.9   \n",
            "3                       1               13                     98.0   \n",
            "4                       1                3                     83.9   \n",
            "\n",
            "   account.Charges.Total  cuentas_diarias  Churn_Yes  customer.gender_Male  \\\n",
            "0                 593.30         2.186667      False                 False   \n",
            "1                 542.40         1.996667      False                  True   \n",
            "2                 280.85         2.463333       True                  True   \n",
            "3                1237.85         3.266667       True                  True   \n",
            "4                 267.40         2.796667       True                 False   \n",
            "\n",
            "   customer.Partner_Yes  customer.Dependents_Yes  phone.PhoneService_Yes  ...  \\\n",
            "0                  True                     True                    True  ...   \n",
            "1                 False                    False                    True  ...   \n",
            "2                 False                    False                    True  ...   \n",
            "3                  True                    False                    True  ...   \n",
            "4                  True                    False                    True  ...   \n",
            "\n",
            "   internet.DeviceProtection_Yes  internet.TechSupport_Yes  \\\n",
            "0                          False                      True   \n",
            "1                          False                     False   \n",
            "2                           True                     False   \n",
            "3                           True                     False   \n",
            "4                          False                      True   \n",
            "\n",
            "   internet.StreamingTV_Yes  internet.StreamingMovies_Yes  \\\n",
            "0                      True                         False   \n",
            "1                     False                          True   \n",
            "2                     False                         False   \n",
            "3                      True                          True   \n",
            "4                      True                         False   \n",
            "\n",
            "   account.Contract_One year  account.Contract_Two year  \\\n",
            "0                       True                      False   \n",
            "1                      False                      False   \n",
            "2                      False                      False   \n",
            "3                      False                      False   \n",
            "4                      False                      False   \n",
            "\n",
            "   account.PaperlessBilling_Yes  \\\n",
            "0                          True   \n",
            "1                         False   \n",
            "2                          True   \n",
            "3                          True   \n",
            "4                          True   \n",
            "\n",
            "   account.PaymentMethod_Credit card (automatic)  \\\n",
            "0                                          False   \n",
            "1                                          False   \n",
            "2                                          False   \n",
            "3                                          False   \n",
            "4                                          False   \n",
            "\n",
            "   account.PaymentMethod_Electronic check  account.PaymentMethod_Mailed check  \n",
            "0                                   False                                True  \n",
            "1                                   False                                True  \n",
            "2                                    True                               False  \n",
            "3                                    True                               False  \n",
            "4                                   False                                True  \n",
            "\n",
            "[5 rows x 26 columns]\n"
          ]
        }
      ]
    },
    {
      "cell_type": "code",
      "source": [
        "from sklearn.model_selection import train_test_split"
      ],
      "metadata": {
        "id": "TFQknvTaa0ji"
      },
      "execution_count": 34,
      "outputs": []
    },
    {
      "cell_type": "code",
      "source": [
        "#Variable objetivo (0=No, 1=Yes)\n",
        "y = datos[\"Churn\"].map({\"No\": 0, \"Yes\": 1})\n",
        "X = datos.drop(columns=[\"Churn\"])"
      ],
      "metadata": {
        "id": "IzpyfY-ja0nB"
      },
      "execution_count": 36,
      "outputs": []
    },
    {
      "cell_type": "code",
      "source": [
        "#One-hot encoding\n",
        "X = pd.get_dummies(X, drop_first=True)"
      ],
      "metadata": {
        "id": "O76BU-r4a0rN"
      },
      "execution_count": 37,
      "outputs": []
    },
    {
      "cell_type": "code",
      "source": [
        "#train/test\n",
        "X_train, X_test, y_train, y_test = train_test_split(\n",
        "    X, y, test_size=0.2, random_state=42, stratify=y\n",
        ")"
      ],
      "metadata": {
        "id": "8lZDXSYkfZFR"
      },
      "execution_count": 38,
      "outputs": []
    },
    {
      "cell_type": "code",
      "source": [
        "print(\"X shape:\", X.shape, \"| y shape:\", y.shape)\n",
        "print(\"Train ->\", X_train.shape, y_train.shape, \"| Test ->\", X_test.shape, y_test.shape)"
      ],
      "metadata": {
        "id": "usd9GER1ftFt",
        "outputId": "ea41fffd-e69e-4702-e092-78fa59ae3fcc",
        "colab": {
          "base_uri": "https://localhost:8080/"
        }
      },
      "execution_count": 39,
      "outputs": [
        {
          "output_type": "stream",
          "name": "stdout",
          "text": [
            "X shape: (7043, 25) | y shape: (7043,)\n",
            "Train -> (5634, 25) (5634,) | Test -> (1409, 25) (1409,)\n"
          ]
        }
      ]
    }
  ]
}